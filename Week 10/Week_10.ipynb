{
  "cells": [
    {
      "cell_type": "markdown",
      "metadata": {
        "id": "view-in-github",
        "colab_type": "text"
      },
      "source": [
        "<a href=\"https://colab.research.google.com/github/Maisho20/Machine-Learning/blob/main/Week%2010/Week_10.ipynb\" target=\"_parent\"><img src=\"https://colab.research.google.com/assets/colab-badge.svg\" alt=\"Open In Colab\"/></a>"
      ]
    },
    {
      "cell_type": "markdown",
      "metadata": {
        "id": "FMQOiy1FU9A1"
      },
      "source": [
        "**Nama: Sabbaha Naufal Erwanda**\n",
        "\n",
        "**Kelas: TI-3A**\n",
        "\n",
        "**NIM: 2141720221**"
      ]
    },
    {
      "cell_type": "markdown",
      "metadata": {
        "id": "PESIB6r_U-mF"
      },
      "source": [
        "# Praktikum 1\n",
        "RNN untuk Analisis Sentimen"
      ]
    },
    {
      "cell_type": "markdown",
      "metadata": {
        "id": "mYbjg-aDVFg3"
      },
      "source": [
        "## **Setup library**"
      ]
    },
    {
      "cell_type": "code",
      "execution_count": null,
      "metadata": {
        "id": "ylmInXEgUv9A"
      },
      "outputs": [],
      "source": [
        "import numpy as np\n",
        "import tensorflow_datasets as tfds\n",
        "import tensorflow as tf\n",
        "\n",
        "tfds.disable_progress_bar()"
      ]
    },
    {
      "cell_type": "code",
      "execution_count": null,
      "metadata": {
        "colab": {
          "base_uri": "https://localhost:8080/"
        },
        "id": "FjjFqFk2Wszs",
        "outputId": "5ce5e7b9-59c6-4691-934c-9b3746da97d2"
      },
      "outputs": [
        {
          "output_type": "stream",
          "name": "stdout",
          "text": [
            "Downloading and preparing dataset 80.23 MiB (download: 80.23 MiB, generated: Unknown size, total: 80.23 MiB) to /root/tensorflow_datasets/imdb_reviews/plain_text/1.0.0...\n",
            "Dataset imdb_reviews downloaded and prepared to /root/tensorflow_datasets/imdb_reviews/plain_text/1.0.0. Subsequent calls will reuse this data.\n"
          ]
        }
      ],
      "source": [
        "# Construct a tf.data.Dataset\n",
        "ds = tfds.load('imdb_reviews', split='train', shuffle_files=True)"
      ]
    },
    {
      "cell_type": "code",
      "execution_count": null,
      "metadata": {
        "id": "iTvBcqa8VL3u"
      },
      "outputs": [],
      "source": [
        "import matplotlib.pyplot as plt\n",
        "\n",
        "def plot_graphs(history, metric):\n",
        " plt.plot(history.history[metric])\n",
        " plt.plot(history.history['val_'+metric], '')\n",
        " plt.xlabel(\"Epochs\")\n",
        " plt.ylabel(metric)\n",
        " plt.legend([metric, 'val_'+metric])"
      ]
    },
    {
      "cell_type": "markdown",
      "metadata": {
        "id": "OaIEG79lVO3_"
      },
      "source": [
        "## **Setup input pipeline**"
      ]
    },
    {
      "cell_type": "code",
      "execution_count": null,
      "metadata": {
        "colab": {
          "base_uri": "https://localhost:8080/"
        },
        "id": "F4uMYCw4VS04",
        "outputId": "53b06542-cfc5-437c-b5fd-f0c0d6c70fc0"
      },
      "outputs": [
        {
          "output_type": "execute_result",
          "data": {
            "text/plain": [
              "(TensorSpec(shape=(), dtype=tf.string, name=None),\n",
              " TensorSpec(shape=(), dtype=tf.int64, name=None))"
            ]
          },
          "metadata": {},
          "execution_count": 4
        }
      ],
      "source": [
        "dataset, info = tfds.load('imdb_reviews', with_info=True,\n",
        "                          as_supervised=True)\n",
        "train_dataset, test_dataset = dataset['train'], dataset['test']\n",
        "\n",
        "train_dataset.element_spec"
      ]
    },
    {
      "cell_type": "code",
      "execution_count": null,
      "metadata": {
        "colab": {
          "base_uri": "https://localhost:8080/"
        },
        "id": "7Yf7sswpVU9S",
        "outputId": "6ab5cb0a-cf0d-4753-b0b1-5af3f2c3412e"
      },
      "outputs": [
        {
          "output_type": "stream",
          "name": "stdout",
          "text": [
            "text:  b\"This was an absolutely terrible movie. Don't be lured in by Christopher Walken or Michael Ironside. Both are great actors, but this must simply be their worst role in history. Even their great acting could not redeem this movie's ridiculous storyline. This movie is an early nineties US propaganda piece. The most pathetic scenes were those when the Columbian rebels were making their cases for revolutions. Maria Conchita Alonso appeared phony, and her pseudo-love affair with Walken was nothing but a pathetic emotional plug in a movie that was devoid of any real meaning. I am disappointed that there are movies like this, ruining actor's like Christopher Walken's good name. I could barely sit through it.\"\n",
            "label:  0\n"
          ]
        }
      ],
      "source": [
        "# mengembalikan dataset\n",
        "for example, label in train_dataset.take(1):\n",
        "  print('text: ', example.numpy())\n",
        "  print('label: ', label.numpy())"
      ]
    },
    {
      "cell_type": "code",
      "execution_count": null,
      "metadata": {
        "colab": {
          "base_uri": "https://localhost:8080/"
        },
        "id": "qBsoAdT1Vbv1",
        "outputId": "48e81fd5-557d-4210-9873-1700382691f9"
      },
      "outputs": [
        {
          "output_type": "stream",
          "name": "stdout",
          "text": [
            "texts:  [b'Where to begin? <br /><br />#1 Amitabh\\'s son, played by Akshaye Khanna, is 30.<br /><br />Amitabh\\'s been in prison for 33+ years... he<br /><br />A) Telepathically transmitted the sperm home?<br /><br />B) Asked a nice Pakistani guard to mail it for him?<br /><br />C) They allow conjugal visits in secret Pakistani Jails<br /><br />D) All of the above<br /><br />E) The producers were having a little too much bhang at<br /><br />the time they approved the script?<br /><br />#2) Amrita Rao (Yummm!) wants Khanna - he\\'s yum, yum, yummy... and apparently he wants her - who wouldn\\'t, right?!... But, when her dad gets ratted out, and then killed (I hardly think this is a \\'spoiler\\' as you\\'d have to be brain-dead and blind not to see this coming in the film) he\\'s pretty emotionless towards this catastrophe and with the tip (metaphorically) of his hat, leaves her behind to save his dad, never mind her loss, and says (paraphrasing) \"If god wills it, we\\'ll meet again\"... Basically meaning, \"I\\'m gonna get my dad and MY job done, sorry for your loss - CYA! Buh Bye!\" - callus beyond even low-life Hollywood standards...<br /><br />#3) There are so many holes in this horrible waste of time called a movie, that you can drive all the jeeps, trucks camels and any extra stuff through it. Pass - really, complete and total waste of time - Oh! There is a great dance sequence (yes, only one - as in dance sequence - regardless of quality) great belly dancing - but NOT worth watching just for this.<br /><br />Rent Veer-Zaara or Lakshya (will Hrithik Roshan ever take acting lessons?) for better Indo-Pak conflict movies... In fact, Veer-Zaara is pretty damned good - 7.5/8 I\\'d say!'\n",
            " b\"A funny comedy from beginning to end! There are several hilarious scenes but it's also loaded with many subtle comedic moments which is what made the movie for me. Creative story line with a very talented cast. I thoroughly enjoyed it!\"\n",
            " b\"The plot was very thin, although the idea of naked, sexy, man eating sirens is a good one.<br /><br />The film just seemed to meander from one meaningless scene to another with far too few nuddie/splatter/lesbian mouth licking shots in between.<br /><br />The characters were wooden and one dimensional.<br /><br />The ending made no sense.<br /><br />Considering it had Tom Savini and Shaun Hutson in it, you would have expected a decent plot and decent special effects. Some of the effects were quite good but there were just too few of them.<br /><br />Brownie points go for occasional flashes of tits and bush, naturally, and of course the lesbian moments. I also thought that the scene with the sirens bathing in the pool under the waterfall could be viewed as an innovative take on the 'shower scene'<br /><br />The film had many of the elements that go into making a first rate horror film but they were poorly executed or used too sparsely.<br /><br />If I had been watching this alone and aged 15, i would have really enjoyed it for about 10 minutes (with 1 hand of the remote control), then lost interest suddenly and needed a pizza...\"]\n",
            "\n",
            "labels:  [0 1 0]\n"
          ]
        }
      ],
      "source": [
        "# Acak data untuk pelatihan dan membuat kumpulan pasangan\n",
        "BUFFER_SIZE = 10000\n",
        "BATCH_SIZE = 64\n",
        "\n",
        "train_dataset = train_dataset.shuffle(BUFFER_SIZE).batch(BATCH_SIZE).prefetch(tf.data.AUTOTUNE)\n",
        "test_dataset = test_dataset.batch(BATCH_SIZE).prefetch(tf.data.AUTOTUNE)\n",
        "\n",
        "for example, label in train_dataset.take(1):\n",
        "  print('texts: ', example.numpy()[:3])\n",
        "  print()\n",
        "  print('labels: ', label.numpy()[:3])\n"
      ]
    },
    {
      "cell_type": "markdown",
      "metadata": {
        "id": "eFJLJeVpYhvP"
      },
      "source": [
        "## **Buat Teks Encoder**"
      ]
    },
    {
      "cell_type": "code",
      "execution_count": null,
      "metadata": {
        "id": "X8w9pPX3YzZa"
      },
      "outputs": [],
      "source": [
        "VOCAB_SIZE = 1000\n",
        "encoder = tf.keras.layers.TextVectorization(\n",
        "    max_tokens=VOCAB_SIZE)\n",
        "encoder.adapt(train_dataset.map(lambda text, label: text))"
      ]
    },
    {
      "cell_type": "code",
      "execution_count": null,
      "metadata": {
        "colab": {
          "base_uri": "https://localhost:8080/"
        },
        "id": "ARuXrirdY4l9",
        "outputId": "b7ec56cf-866d-4eeb-a124-16b7beaf6734"
      },
      "outputs": [
        {
          "output_type": "execute_result",
          "data": {
            "text/plain": [
              "array(['', '[UNK]', 'the', 'and', 'a', 'of', 'to', 'is', 'in', 'it', 'i',\n",
              "       'this', 'that', 'br', 'was', 'as', 'for', 'with', 'movie', 'but'],\n",
              "      dtype='<U14')"
            ]
          },
          "metadata": {},
          "execution_count": 8
        }
      ],
      "source": [
        "vocab = np.array(encoder.get_vocabulary())\n",
        "vocab[:20]"
      ]
    },
    {
      "cell_type": "code",
      "execution_count": null,
      "metadata": {
        "colab": {
          "base_uri": "https://localhost:8080/"
        },
        "id": "aFDwK4jWZ6MT",
        "outputId": "dadf6567-2ff9-4d8c-a1c2-1322ab12195c"
      },
      "outputs": [
        {
          "output_type": "execute_result",
          "data": {
            "text/plain": [
              "array([[113,   6, 883, ...,   0,   0,   0],\n",
              "       [  4, 162, 220, ...,   0,   0,   0],\n",
              "       [  2, 114,  14, ...,   0,   0,   0]])"
            ]
          },
          "metadata": {},
          "execution_count": 9
        }
      ],
      "source": [
        "encoded_example = encoder(example)[:3].numpy()\n",
        "encoded_example"
      ]
    },
    {
      "cell_type": "code",
      "execution_count": null,
      "metadata": {
        "colab": {
          "base_uri": "https://localhost:8080/"
        },
        "id": "zDfA74DGZ_e0",
        "outputId": "6f54e89a-d388-4056-aaf5-49f25cad783f"
      },
      "outputs": [
        {
          "output_type": "stream",
          "name": "stdout",
          "text": [
            "Original:  b'Where to begin? <br /><br />#1 Amitabh\\'s son, played by Akshaye Khanna, is 30.<br /><br />Amitabh\\'s been in prison for 33+ years... he<br /><br />A) Telepathically transmitted the sperm home?<br /><br />B) Asked a nice Pakistani guard to mail it for him?<br /><br />C) They allow conjugal visits in secret Pakistani Jails<br /><br />D) All of the above<br /><br />E) The producers were having a little too much bhang at<br /><br />the time they approved the script?<br /><br />#2) Amrita Rao (Yummm!) wants Khanna - he\\'s yum, yum, yummy... and apparently he wants her - who wouldn\\'t, right?!... But, when her dad gets ratted out, and then killed (I hardly think this is a \\'spoiler\\' as you\\'d have to be brain-dead and blind not to see this coming in the film) he\\'s pretty emotionless towards this catastrophe and with the tip (metaphorically) of his hat, leaves her behind to save his dad, never mind her loss, and says (paraphrasing) \"If god wills it, we\\'ll meet again\"... Basically meaning, \"I\\'m gonna get my dad and MY job done, sorry for your loss - CYA! Buh Bye!\" - callus beyond even low-life Hollywood standards...<br /><br />#3) There are so many holes in this horrible waste of time called a movie, that you can drive all the jeeps, trucks camels and any extra stuff through it. Pass - really, complete and total waste of time - Oh! There is a great dance sequence (yes, only one - as in dance sequence - regardless of quality) great belly dancing - but NOT worth watching just for this.<br /><br />Rent Veer-Zaara or Lakshya (will Hrithik Roshan ever take acting lessons?) for better Indo-Pak conflict movies... In fact, Veer-Zaara is pretty damned good - 7.5/8 I\\'d say!'\n",
            "Round-trip:  where to begin br br 1 [UNK] son played by [UNK] [UNK] is [UNK] br [UNK] been in [UNK] for [UNK] years [UNK] br a [UNK] [UNK] the [UNK] [UNK] br b [UNK] a nice [UNK] [UNK] to [UNK] it for [UNK] br [UNK] they [UNK] [UNK] [UNK] in secret [UNK] [UNK] br [UNK] all of the [UNK] br [UNK] the [UNK] were having a little too much [UNK] [UNK] br the time they [UNK] the [UNK] br 2 [UNK] [UNK] [UNK] wants [UNK] hes [UNK] [UNK] [UNK] and apparently he wants her who wouldnt right but when her [UNK] gets [UNK] out and then killed i hardly think this is a [UNK] as [UNK] have to be [UNK] and [UNK] not to see this coming in the film hes pretty [UNK] towards this [UNK] and with the [UNK] [UNK] of his [UNK] leaves her behind to save his [UNK] never mind her [UNK] and says [UNK] if god [UNK] it well meet again basically [UNK] im [UNK] get my [UNK] and my job done sorry for your [UNK] [UNK] [UNK] [UNK] [UNK] beyond even [UNK] hollywood [UNK] br 3 there are so many [UNK] in this horrible waste of time called a movie that you can [UNK] all the [UNK] [UNK] [UNK] and any [UNK] stuff through it [UNK] really complete and total waste of time oh there is a great dance sequence yes only one as in dance sequence [UNK] of quality great [UNK] [UNK] but not worth watching just for [UNK] br rent [UNK] or [UNK] will [UNK] [UNK] ever take acting [UNK] for better [UNK] [UNK] movies in fact [UNK] is pretty [UNK] good [UNK] id say                                                                                                                                                                                                                                                                                                                                                                                                                                                                                                                                                                                                   \n",
            "\n",
            "Original:  b\"A funny comedy from beginning to end! There are several hilarious scenes but it's also loaded with many subtle comedic moments which is what made the movie for me. Creative story line with a very talented cast. I thoroughly enjoyed it!\"\n",
            "Round-trip:  a funny comedy from beginning to end there are several hilarious scenes but its also [UNK] with many [UNK] [UNK] moments which is what made the movie for me [UNK] story line with a very [UNK] cast i [UNK] enjoyed it                                                                                                                                                                                                                                                                                                                                                                                                                                                                                                                                                                                                                                                                                                                                                                                                                                                   \n",
            "\n",
            "Original:  b\"The plot was very thin, although the idea of naked, sexy, man eating sirens is a good one.<br /><br />The film just seemed to meander from one meaningless scene to another with far too few nuddie/splatter/lesbian mouth licking shots in between.<br /><br />The characters were wooden and one dimensional.<br /><br />The ending made no sense.<br /><br />Considering it had Tom Savini and Shaun Hutson in it, you would have expected a decent plot and decent special effects. Some of the effects were quite good but there were just too few of them.<br /><br />Brownie points go for occasional flashes of tits and bush, naturally, and of course the lesbian moments. I also thought that the scene with the sirens bathing in the pool under the waterfall could be viewed as an innovative take on the 'shower scene'<br /><br />The film had many of the elements that go into making a first rate horror film but they were poorly executed or used too sparsely.<br /><br />If I had been watching this alone and aged 15, i would have really enjoyed it for about 10 minutes (with 1 hand of the remote control), then lost interest suddenly and needed a pizza...\"\n",
            "Round-trip:  the plot was very [UNK] although the idea of [UNK] [UNK] man [UNK] [UNK] is a good [UNK] br the film just seemed to [UNK] from one [UNK] scene to another with far too few [UNK] [UNK] [UNK] shots in [UNK] br the characters were [UNK] and one [UNK] br the ending made no [UNK] br [UNK] it had tom [UNK] and [UNK] [UNK] in it you would have expected a decent plot and decent special effects some of the effects were quite good but there were just too few of [UNK] br [UNK] points go for [UNK] [UNK] of [UNK] and [UNK] [UNK] and of course the [UNK] moments i also thought that the scene with the [UNK] [UNK] in the [UNK] under the [UNK] could be [UNK] as an [UNK] take on the [UNK] [UNK] br the film had many of the elements that go into making a first [UNK] horror film but they were poorly [UNK] or used too [UNK] br if i had been watching this alone and [UNK] [UNK] i would have really enjoyed it for about 10 minutes with 1 hand of the [UNK] [UNK] then lost interest [UNK] and needed a [UNK]                                                                                                                                                                                                                                                                                                                                                                                                                                                                                                                                                                                                                                                                                     \n",
            "\n"
          ]
        }
      ],
      "source": [
        "for n in range(3):\n",
        "  print(\"Original: \", example[n].numpy())\n",
        "  print(\"Round-trip: \", \" \".join(vocab[encoded_example[n]]))\n",
        "  print()"
      ]
    },
    {
      "cell_type": "markdown",
      "metadata": {
        "id": "k9j6ncH6Yjps"
      },
      "source": [
        "## **Buat Model**"
      ]
    },
    {
      "cell_type": "code",
      "execution_count": null,
      "metadata": {
        "id": "6_F7M7cFaFpO"
      },
      "outputs": [],
      "source": [
        "model = tf.keras.Sequential([\n",
        "    encoder,\n",
        "    tf.keras.layers.Embedding(\n",
        "        input_dim=len(encoder.get_vocabulary()),\n",
        "        output_dim=64,\n",
        "        # Use masking to handle the variable sequence lengths\n",
        "        mask_zero=True),\n",
        "    tf.keras.layers.Bidirectional(tf.keras.layers.LSTM(64)),\n",
        "    tf.keras.layers.Dense(64, activation='relu'),\n",
        "    tf.keras.layers.Dense(1)\n",
        "])"
      ]
    },
    {
      "cell_type": "code",
      "execution_count": null,
      "metadata": {
        "colab": {
          "base_uri": "https://localhost:8080/"
        },
        "id": "apy-N5t5aGaR",
        "outputId": "56a1da2a-ec67-4478-9099-b06dfd1c746c"
      },
      "outputs": [
        {
          "output_type": "stream",
          "name": "stdout",
          "text": [
            "[False, True, True, True, True]\n"
          ]
        }
      ],
      "source": [
        "print([layer.supports_masking for layer in model.layers])"
      ]
    },
    {
      "cell_type": "code",
      "execution_count": null,
      "metadata": {
        "colab": {
          "base_uri": "https://localhost:8080/"
        },
        "id": "QXQAgGA1aJXK",
        "outputId": "a747f509-16ce-4fb7-92fb-ee7ec9128dc9"
      },
      "outputs": [
        {
          "output_type": "stream",
          "name": "stdout",
          "text": [
            "1/1 [==============================] - 7s 7s/step\n",
            "[0.00912743]\n"
          ]
        }
      ],
      "source": [
        "# predict on a sample text without padding.\n",
        "\n",
        "# evaluasi sebuah kalimat dua kali\n",
        "sample_text = ('The movie was cool. The animation and the graphics '\n",
        "               'were out of this world. I would recommend this movie.')\n",
        "predictions = model.predict(np.array([sample_text]))\n",
        "print(predictions[0])"
      ]
    },
    {
      "cell_type": "code",
      "execution_count": null,
      "metadata": {
        "colab": {
          "base_uri": "https://localhost:8080/"
        },
        "id": "ateoVAmYaPfv",
        "outputId": "e6916e5b-4288-4866-de69-1faa5e40f789"
      },
      "outputs": [
        {
          "output_type": "stream",
          "name": "stdout",
          "text": [
            "1/1 [==============================] - 0s 61ms/step\n",
            "[0.00912743]\n"
          ]
        }
      ],
      "source": [
        "# predict on a sample text with padding\n",
        "\n",
        "# evaluasi lagi dalam batch dengan kalimat yang lebih panjang\n",
        "padding = \"the \" * 2000\n",
        "predictions = model.predict(np.array([sample_text, padding]))\n",
        "print(predictions[0])"
      ]
    },
    {
      "cell_type": "code",
      "execution_count": null,
      "metadata": {
        "id": "_Igfu_r0aS9u"
      },
      "outputs": [],
      "source": [
        "# compile model Keras untuk mengonfigurasi proses pelatihan\n",
        "model.compile(loss=tf.keras.losses.BinaryCrossentropy(from_logits=True),\n",
        "              optimizer=tf.keras.optimizers.Adam(1e-4),\n",
        "              metrics=['accuracy'])"
      ]
    },
    {
      "cell_type": "markdown",
      "metadata": {
        "id": "QZeODmWzal4E"
      },
      "source": [
        "## **Train Model**"
      ]
    },
    {
      "cell_type": "code",
      "execution_count": null,
      "metadata": {
        "colab": {
          "base_uri": "https://localhost:8080/"
        },
        "id": "07FVatqYaVRA",
        "outputId": "2810d142-63e6-4a0c-dc22-2327999671d6"
      },
      "outputs": [
        {
          "output_type": "stream",
          "name": "stdout",
          "text": [
            "Epoch 1/10\n",
            "391/391 [==============================] - 52s 107ms/step - loss: 0.6505 - accuracy: 0.5545 - val_loss: 0.5064 - val_accuracy: 0.7536\n",
            "Epoch 2/10\n",
            "391/391 [==============================] - 25s 63ms/step - loss: 0.4235 - accuracy: 0.8041 - val_loss: 0.3867 - val_accuracy: 0.8245\n",
            "Epoch 3/10\n",
            "391/391 [==============================] - 28s 71ms/step - loss: 0.3530 - accuracy: 0.8470 - val_loss: 0.3533 - val_accuracy: 0.8453\n",
            "Epoch 4/10\n",
            "391/391 [==============================] - 24s 60ms/step - loss: 0.3287 - accuracy: 0.8575 - val_loss: 0.3360 - val_accuracy: 0.8521\n",
            "Epoch 5/10\n",
            "391/391 [==============================] - 25s 62ms/step - loss: 0.3168 - accuracy: 0.8656 - val_loss: 0.3371 - val_accuracy: 0.8547\n",
            "Epoch 6/10\n",
            "391/391 [==============================] - 29s 74ms/step - loss: 0.3083 - accuracy: 0.8709 - val_loss: 0.3343 - val_accuracy: 0.8500\n",
            "Epoch 7/10\n",
            "391/391 [==============================] - 24s 61ms/step - loss: 0.3041 - accuracy: 0.8717 - val_loss: 0.3230 - val_accuracy: 0.8547\n",
            "Epoch 8/10\n",
            "391/391 [==============================] - 24s 61ms/step - loss: 0.3043 - accuracy: 0.8704 - val_loss: 0.3217 - val_accuracy: 0.8578\n",
            "Epoch 9/10\n",
            "391/391 [==============================] - 25s 62ms/step - loss: 0.3006 - accuracy: 0.8737 - val_loss: 0.3186 - val_accuracy: 0.8589\n",
            "Epoch 10/10\n",
            "391/391 [==============================] - 24s 60ms/step - loss: 0.2974 - accuracy: 0.8738 - val_loss: 0.3185 - val_accuracy: 0.8578\n"
          ]
        }
      ],
      "source": [
        "history = model.fit(train_dataset, epochs=10,\n",
        "                    validation_data=test_dataset,\n",
        "                    validation_steps=30)"
      ]
    },
    {
      "cell_type": "code",
      "execution_count": null,
      "metadata": {
        "colab": {
          "base_uri": "https://localhost:8080/"
        },
        "id": "0rbBox6Sa2aB",
        "outputId": "bf0553b2-dd9e-4e90-dba2-01c46c07c6b6"
      },
      "outputs": [
        {
          "output_type": "stream",
          "name": "stdout",
          "text": [
            "391/391 [==============================] - 12s 30ms/step - loss: 0.3147 - accuracy: 0.8616\n",
            "Test Loss: 0.31472882628440857\n",
            "Test Accuracy: 0.8615599870681763\n"
          ]
        }
      ],
      "source": [
        "test_loss, test_acc = model.evaluate(test_dataset)\n",
        "\n",
        "print('Test Loss:', test_loss)\n",
        "print('Test Accuracy:', test_acc)"
      ]
    },
    {
      "cell_type": "code",
      "execution_count": null,
      "metadata": {
        "colab": {
          "base_uri": "https://localhost:8080/",
          "height": 718
        },
        "id": "QvIUu_4da4X3",
        "outputId": "549b415b-4d4f-427b-e672-3bda6785a789"
      },
      "outputs": [
        {
          "output_type": "execute_result",
          "data": {
            "text/plain": [
              "(0.0, 0.6681822270154953)"
            ]
          },
          "metadata": {},
          "execution_count": 18
        },
        {
          "output_type": "display_data",
          "data": {
            "text/plain": [
              "<Figure size 1600x800 with 2 Axes>"
            ],
            "image/png": "[encoded data removed]"
          },
          "metadata": {}
        }
      ],
      "source": [
        "plt.figure(figsize=(16, 8))\n",
        "plt.subplot(1, 2, 1)\n",
        "plot_graphs(history, 'accuracy')\n",
        "plt.ylim(None, 1)\n",
        "plt.subplot(1, 2, 2)\n",
        "plot_graphs(history, 'loss')\n",
        "plt.ylim(0, None)"
      ]
    },
    {
      "cell_type": "code",
      "execution_count": null,
      "metadata": {
        "colab": {
          "base_uri": "https://localhost:8080/"
        },
        "id": "s98sclv9a80x",
        "outputId": "51540465-9b0f-4cf5-be7d-5d12b1f8f8cb"
      },
      "outputs": [
        {
          "output_type": "stream",
          "name": "stdout",
          "text": [
            "1/1 [==============================] - 3s 3s/step\n"
          ]
        }
      ],
      "source": [
        "sample_text = ('The movie was cool. The animation and the graphics '\n",
        "               'were out of this world. I would recommend this movie.')\n",
        "predictions = model.predict(np.array([sample_text]))"
      ]
    },
    {
      "cell_type": "markdown",
      "metadata": {
        "id": "QNlrIxdabpiw"
      },
      "source": [
        "## **Stack two or more LSTM layers**"
      ]
    },
    {
      "cell_type": "code",
      "execution_count": null,
      "metadata": {
        "id": "w6CfhmXqbr6I"
      },
      "outputs": [],
      "source": [
        "model = tf.keras.Sequential([\n",
        "    encoder,\n",
        "    tf.keras.layers.Embedding(len(encoder.get_vocabulary()), 64, mask_zero=True),\n",
        "    tf.keras.layers.Bidirectional(tf.keras.layers.LSTM(64, return_sequences=True)),\n",
        "    tf.keras.layers.Bidirectional(tf.keras.layers.LSTM(32)),\n",
        "    tf.keras.layers.Dense(64, activation='relu'),\n",
        "    tf.keras.layers.Dropout(0.5),\n",
        "    tf.keras.layers.Dense(1)\n",
        "])"
      ]
    },
    {
      "cell_type": "code",
      "execution_count": null,
      "metadata": {
        "id": "ls3zeJn4b1rC"
      },
      "outputs": [],
      "source": [
        "model.compile(loss=tf.keras.losses.BinaryCrossentropy(from_logits=True),\n",
        "              optimizer=tf.keras.optimizers.Adam(1e-4),\n",
        "              metrics=['accuracy'])"
      ]
    },
    {
      "cell_type": "code",
      "execution_count": null,
      "metadata": {
        "colab": {
          "base_uri": "https://localhost:8080/"
        },
        "id": "8ahdxsVDcAAP",
        "outputId": "41dbe13a-37f4-4600-f451-2aaf73bf3119"
      },
      "outputs": [
        {
          "output_type": "stream",
          "name": "stdout",
          "text": [
            "Epoch 1/10\n",
            "391/391 [==============================] - 76s 148ms/step - loss: 0.6157 - accuracy: 0.6006 - val_loss: 0.4220 - val_accuracy: 0.7932\n",
            "Epoch 2/10\n",
            "391/391 [==============================] - 46s 117ms/step - loss: 0.3788 - accuracy: 0.8333 - val_loss: 0.3501 - val_accuracy: 0.8521\n",
            "Epoch 3/10\n",
            "391/391 [==============================] - 45s 115ms/step - loss: 0.3378 - accuracy: 0.8556 - val_loss: 0.3318 - val_accuracy: 0.8526\n",
            "Epoch 4/10\n",
            "391/391 [==============================] - 46s 116ms/step - loss: 0.3188 - accuracy: 0.8636 - val_loss: 0.3205 - val_accuracy: 0.8557\n",
            "Epoch 5/10\n",
            "391/391 [==============================] - 45s 114ms/step - loss: 0.3099 - accuracy: 0.8680 - val_loss: 0.3219 - val_accuracy: 0.8531\n",
            "Epoch 6/10\n",
            "391/391 [==============================] - 52s 132ms/step - loss: 0.3088 - accuracy: 0.8682 - val_loss: 0.3332 - val_accuracy: 0.8396\n",
            "Epoch 7/10\n",
            "391/391 [==============================] - 46s 117ms/step - loss: 0.3043 - accuracy: 0.8693 - val_loss: 0.3211 - val_accuracy: 0.8552\n",
            "Epoch 8/10\n",
            "391/391 [==============================] - 46s 118ms/step - loss: 0.3006 - accuracy: 0.8709 - val_loss: 0.3236 - val_accuracy: 0.8536\n",
            "Epoch 9/10\n",
            "391/391 [==============================] - 46s 116ms/step - loss: 0.2982 - accuracy: 0.8717 - val_loss: 0.3217 - val_accuracy: 0.8604\n",
            "Epoch 10/10\n",
            "391/391 [==============================] - 44s 112ms/step - loss: 0.2953 - accuracy: 0.8722 - val_loss: 0.3294 - val_accuracy: 0.8625\n"
          ]
        }
      ],
      "source": [
        "history = model.fit(train_dataset, epochs=10,\n",
        "                    validation_data=test_dataset,\n",
        "                    validation_steps=30)"
      ]
    },
    {
      "cell_type": "code",
      "execution_count": null,
      "metadata": {
        "id": "4TcPnqowcFB3",
        "colab": {
          "base_uri": "https://localhost:8080/"
        },
        "outputId": "12beaebf-bc11-413a-b71b-6395eff0e8f2"
      },
      "outputs": [
        {
          "output_type": "stream",
          "name": "stdout",
          "text": [
            "391/391 [==============================] - 18s 47ms/step - loss: 0.3260 - accuracy: 0.8635\n",
            "Test Loss: 0.32601091265678406\n",
            "Test Accuracy: 0.8634799718856812\n"
          ]
        }
      ],
      "source": [
        "test_loss, test_acc = model.evaluate(test_dataset)\n",
        "\n",
        "print('Test Loss:', test_loss)\n",
        "print('Test Accuracy:', test_acc)"
      ]
    },
    {
      "cell_type": "code",
      "execution_count": null,
      "metadata": {
        "id": "Ah5CchUmcJby",
        "colab": {
          "base_uri": "https://localhost:8080/"
        },
        "outputId": "55f7d143-ba11-45d1-d68f-efe0364161eb"
      },
      "outputs": [
        {
          "output_type": "stream",
          "name": "stdout",
          "text": [
            "1/1 [==============================] - 6s 6s/step\n",
            "[[0.3646883]]\n"
          ]
        }
      ],
      "source": [
        "# predict on a sample text without padding.\n",
        "\n",
        "sample_text = ('The movie was cool. The animation and the graphics '\n",
        "               'were out of this world. I would recommend this movie.')\n",
        "predictions = model.predict(np.array([sample_text]))\n",
        "print(predictions)"
      ]
    },
    {
      "cell_type": "code",
      "execution_count": null,
      "metadata": {
        "id": "vHCdGKxEcQtm",
        "colab": {
          "base_uri": "https://localhost:8080/",
          "height": 542
        },
        "outputId": "a6646f31-08db-4bc5-e113-529b0fcd5cec"
      },
      "outputs": [
        {
          "output_type": "display_data",
          "data": {
            "text/plain": [
              "<Figure size 1600x600 with 2 Axes>"
            ],
            "image/png": "[encoded data removed]"
          },
          "metadata": {}
        }
      ],
      "source": [
        "plt.figure(figsize=(16, 6))\n",
        "plt.subplot(1, 2, 1)\n",
        "plot_graphs(history, 'accuracy')\n",
        "plt.subplot(1, 2, 2)\n",
        "plot_graphs(history, 'loss')"
      ]
    },
    {
      "cell_type": "markdown",
      "metadata": {
        "id": "lYwJmrZczNHD"
      },
      "source": [
        "# Praktikum 2\n",
        "Generator Teks dengan RNN"
      ]
    },
    {
      "cell_type": "markdown",
      "metadata": {
        "id": "gugvZlDPzZvQ"
      },
      "source": [
        "## **Setup**\n",
        "\n",
        "**Import TensorFlow**"
      ]
    },
    {
      "cell_type": "code",
      "execution_count": null,
      "metadata": {
        "id": "oI2gFRCWzgp8"
      },
      "outputs": [],
      "source": [
        "import tensorflow as tf\n",
        "import numpy as np\n",
        "import os\n",
        "import time"
      ]
    },
    {
      "cell_type": "markdown",
      "metadata": {
        "id": "3lnItUupzkiP"
      },
      "source": [
        "**Download Dataset Shakespeare**"
      ]
    },
    {
      "cell_type": "code",
      "execution_count": null,
      "metadata": {
        "id": "32Flc9RBzi4J",
        "colab": {
          "base_uri": "https://localhost:8080/"
        },
        "outputId": "e673e362-c623-4f67-f319-23f2fdbc9784"
      },
      "outputs": [
        {
          "output_type": "stream",
          "name": "stdout",
          "text": [
            "Downloading data from https://storage.googleapis.com/download.tensorflow.org/data/shakespeare.txt\n",
            "1115394/1115394 [==============================] - 0s 0us/step\n"
          ]
        }
      ],
      "source": [
        "path_to_file = tf.keras.utils.get_file('shakespeare.txt', 'https://storage.googleapis.com/download.tensorflow.org/data/shakespeare.txt')"
      ]
    },
    {
      "cell_type": "markdown",
      "metadata": {
        "id": "fXV0Cu3zzs7Q"
      },
      "source": [
        "**Load data**"
      ]
    },
    {
      "cell_type": "code",
      "execution_count": null,
      "metadata": {
        "id": "-tsFD8P2zqPL",
        "colab": {
          "base_uri": "https://localhost:8080/"
        },
        "outputId": "8394e731-aff0-4060-86b8-4cf1c2094bb3"
      },
      "outputs": [
        {
          "output_type": "stream",
          "name": "stdout",
          "text": [
            "Length of text: 1115394 characters\n"
          ]
        }
      ],
      "source": [
        "# Read, then decode for py2 compat.\n",
        "text = open(path_to_file, 'rb').read().decode(encoding='utf-8')\n",
        "# length of text is the number of characters in it\n",
        "print(f'Length of text: {len(text)} characters')"
      ]
    },
    {
      "cell_type": "code",
      "execution_count": null,
      "metadata": {
        "id": "12Jh64oozx89",
        "colab": {
          "base_uri": "https://localhost:8080/"
        },
        "outputId": "a6fc6ec2-5d5e-4341-8302-a4767ca68ac8"
      },
      "outputs": [
        {
          "output_type": "stream",
          "name": "stdout",
          "text": [
            "First Citizen:\n",
            "Before we proceed any further, hear me speak.\n",
            "\n",
            "All:\n",
            "Speak, speak.\n",
            "\n",
            "First Citizen:\n",
            "You are all resolved rather to die than to famish?\n",
            "\n",
            "All:\n",
            "Resolved. resolved.\n",
            "\n",
            "First Citizen:\n",
            "First, you know Caius Marcius is chief enemy to the people.\n",
            "\n"
          ]
        }
      ],
      "source": [
        "# Take a look at the first 250 characters in text\n",
        "print(text[:250])"
      ]
    },
    {
      "cell_type": "code",
      "execution_count": null,
      "metadata": {
        "id": "bnVF5nFYzyZk",
        "colab": {
          "base_uri": "https://localhost:8080/"
        },
        "outputId": "486b1af6-8047-4049-dfa0-a70f8d773590"
      },
      "outputs": [
        {
          "output_type": "stream",
          "name": "stdout",
          "text": [
            "65 unique characters\n"
          ]
        }
      ],
      "source": [
        "# The unique characters in the file\n",
        "vocab = sorted(set(text))\n",
        "print(f'{len(vocab)} unique characters')"
      ]
    },
    {
      "cell_type": "markdown",
      "metadata": {
        "id": "9muBJeowzwRB"
      },
      "source": [
        "## **olah teks**\n",
        "\n",
        "**Vectorize Teks**"
      ]
    },
    {
      "cell_type": "code",
      "execution_count": null,
      "metadata": {
        "id": "IRMlyUfZz5Fl",
        "colab": {
          "base_uri": "https://localhost:8080/"
        },
        "outputId": "08d33f7a-cf9d-4282-9012-ee310bb63bae"
      },
      "outputs": [
        {
          "output_type": "execute_result",
          "data": {
            "text/plain": [
              "<tf.RaggedTensor [[b'a', b'b', b'c', b'd', b'e', b'f', b'g'], [b'x', b'y', b'z']]>"
            ]
          },
          "metadata": {},
          "execution_count": 31
        }
      ],
      "source": [
        "example_texts = ['abcdefg', 'xyz']\n",
        "chars = tf.strings.unicode_split(example_texts, input_encoding='UTF-8')\n",
        "chars"
      ]
    },
    {
      "cell_type": "markdown",
      "metadata": {
        "id": "oHEgmFBR0HUw"
      },
      "source": [
        "**membuat `tf.keras.layers.StringLookup` layer**"
      ]
    },
    {
      "cell_type": "code",
      "execution_count": null,
      "metadata": {
        "id": "7EP_C-py0DUs"
      },
      "outputs": [],
      "source": [
        "ids_from_chars = tf.keras.layers.StringLookup(vocabulary=list(vocab), mask_token=None)"
      ]
    },
    {
      "cell_type": "markdown",
      "metadata": {
        "id": "reT_13qc0SQC"
      },
      "source": [
        "**mengconvert token menjadi id**"
      ]
    },
    {
      "cell_type": "code",
      "execution_count": null,
      "metadata": {
        "id": "ou0hCK2u0PFa",
        "colab": {
          "base_uri": "https://localhost:8080/"
        },
        "outputId": "5860dfb4-6f4f-4bdc-f92d-03421ce428b4"
      },
      "outputs": [
        {
          "output_type": "execute_result",
          "data": {
            "text/plain": [
              "<tf.RaggedTensor [[40, 41, 42, 43, 44, 45, 46], [63, 64, 65]]>"
            ]
          },
          "metadata": {},
          "execution_count": 33
        }
      ],
      "source": [
        "ids = ids_from_chars(chars)\n",
        "ids"
      ]
    },
    {
      "cell_type": "markdown",
      "source": [
        "**menggunakan metode `get_vocabulary()` dari `tf.keras.layers.StringLookup` sehingga token [UNK] disetel dengan cara yang sama.**"
      ],
      "metadata": {
        "id": "-wIgCdjVg8TO"
      }
    },
    {
      "cell_type": "code",
      "source": [
        "chars_from_ids = tf.keras.layers.StringLookup(\n",
        "    vocabulary=ids_from_chars.get_vocabulary(), invert=True, mask_token=None)"
      ],
      "metadata": {
        "id": "94mQVlPkg7ap"
      },
      "execution_count": null,
      "outputs": []
    },
    {
      "cell_type": "markdown",
      "source": [
        "**mengconvert kembali karakter dari vektor ID, dan mengembalikannya sebagai karakter `tf.RaggedTensor`**"
      ],
      "metadata": {
        "id": "fDLUf1-ChNXB"
      }
    },
    {
      "cell_type": "code",
      "source": [
        "chars = chars_from_ids(ids)\n",
        "chars"
      ],
      "metadata": {
        "colab": {
          "base_uri": "https://localhost:8080/"
        },
        "id": "Z9QjKwgHhMZu",
        "outputId": "7908f27e-0fdd-4b79-d15e-c66e41e45678"
      },
      "execution_count": null,
      "outputs": [
        {
          "output_type": "execute_result",
          "data": {
            "text/plain": [
              "<tf.RaggedTensor [[b'a', b'b', b'c', b'd', b'e', b'f', b'g'], [b'x', b'y', b'z']]>"
            ]
          },
          "metadata": {},
          "execution_count": 35
        }
      ]
    },
    {
      "cell_type": "markdown",
      "source": [
        "**menggunakan `tf.strings.reduce_join` untuk menggabungkan kembali karakter menjadi string.**"
      ],
      "metadata": {
        "id": "kDbjjNu5hY16"
      }
    },
    {
      "cell_type": "code",
      "source": [
        "tf.strings.reduce_join(chars, axis=-1).numpy()"
      ],
      "metadata": {
        "colab": {
          "base_uri": "https://localhost:8080/"
        },
        "id": "B1gkmY2rhTol",
        "outputId": "56d673a3-2aba-4f33-c59e-ff32ab8209f9"
      },
      "execution_count": null,
      "outputs": [
        {
          "output_type": "execute_result",
          "data": {
            "text/plain": [
              "array([b'abcdefg', b'xyz'], dtype=object)"
            ]
          },
          "metadata": {},
          "execution_count": 36
        }
      ]
    },
    {
      "cell_type": "code",
      "source": [
        "def text_from_ids(ids):\n",
        "  return tf.strings.reduce_join(chars_from_ids(ids), axis=-1)"
      ],
      "metadata": {
        "id": "orgJBfd5hdkN"
      },
      "execution_count": null,
      "outputs": []
    },
    {
      "cell_type": "markdown",
      "source": [
        "## **Prediksi**\n",
        "\n",
        "**Membuat Trianing Set dan Target**"
      ],
      "metadata": {
        "id": "cR0AQ07ShpeG"
      }
    },
    {
      "cell_type": "code",
      "source": [
        "all_ids = ids_from_chars(tf.strings.unicode_split(text, 'UTF-8'))\n",
        "all_ids"
      ],
      "metadata": {
        "colab": {
          "base_uri": "https://localhost:8080/"
        },
        "id": "oljRBSRLhlDj",
        "outputId": "e6a4f59e-e6b2-414b-80ca-bf057aceb7ae"
      },
      "execution_count": null,
      "outputs": [
        {
          "output_type": "execute_result",
          "data": {
            "text/plain": [
              "<tf.Tensor: shape=(1115394,), dtype=int64, numpy=array([19, 48, 57, ..., 46,  9,  1])>"
            ]
          },
          "metadata": {},
          "execution_count": 38
        }
      ]
    },
    {
      "cell_type": "code",
      "source": [
        "ids_dataset = tf.data.Dataset.from_tensor_slices(all_ids)"
      ],
      "metadata": {
        "id": "NqGyprADhweQ"
      },
      "execution_count": null,
      "outputs": []
    },
    {
      "cell_type": "code",
      "source": [
        "for ids in ids_dataset.take(10):\n",
        "  print(chars_from_ids(ids).numpy().decode('utf-8'))"
      ],
      "metadata": {
        "colab": {
          "base_uri": "https://localhost:8080/"
        },
        "id": "SgRJXIn6iOee",
        "outputId": "c421ee02-930a-4886-fbb1-3e8325311149"
      },
      "execution_count": null,
      "outputs": [
        {
          "output_type": "stream",
          "name": "stdout",
          "text": [
            "F\n",
            "i\n",
            "r\n",
            "s\n",
            "t\n",
            " \n",
            "C\n",
            "i\n",
            "t\n",
            "i\n"
          ]
        }
      ]
    },
    {
      "cell_type": "code",
      "source": [
        "for ids in ids_dataset.take(10):\n",
        "  print(chars_from_ids(ids).numpy().decode('utf-8'))"
      ],
      "metadata": {
        "colab": {
          "base_uri": "https://localhost:8080/"
        },
        "id": "t2GxBtAdiXTO",
        "outputId": "e3c2b1ea-ed00-4966-e324-290f9c84f316"
      },
      "execution_count": null,
      "outputs": [
        {
          "output_type": "stream",
          "name": "stdout",
          "text": [
            "F\n",
            "i\n",
            "r\n",
            "s\n",
            "t\n",
            " \n",
            "C\n",
            "i\n",
            "t\n",
            "i\n"
          ]
        }
      ]
    },
    {
      "cell_type": "code",
      "source": [
        "seq_length = 100"
      ],
      "metadata": {
        "id": "6BVZJNYjjXqj"
      },
      "execution_count": null,
      "outputs": []
    },
    {
      "cell_type": "markdown",
      "source": [
        "**mengonversi karakter individual ini menjadi urutan ukuran yang diinginkan**"
      ],
      "metadata": {
        "id": "jU7UYv9vjZhI"
      }
    },
    {
      "cell_type": "code",
      "source": [
        "sequences = ids_dataset.batch(seq_length+1, drop_remainder=True)\n",
        "\n",
        "for seq in sequences.take(1):\n",
        "  print(chars_from_ids(seq))"
      ],
      "metadata": {
        "colab": {
          "base_uri": "https://localhost:8080/"
        },
        "id": "6g-bjCw3jY_8",
        "outputId": "2087ae7d-66ba-4c80-947c-7cc6a1e5b39f"
      },
      "execution_count": null,
      "outputs": [
        {
          "output_type": "stream",
          "name": "stdout",
          "text": [
            "tf.Tensor(\n",
            "[b'F' b'i' b'r' b's' b't' b' ' b'C' b'i' b't' b'i' b'z' b'e' b'n' b':'\n",
            " b'\\n' b'B' b'e' b'f' b'o' b'r' b'e' b' ' b'w' b'e' b' ' b'p' b'r' b'o'\n",
            " b'c' b'e' b'e' b'd' b' ' b'a' b'n' b'y' b' ' b'f' b'u' b'r' b't' b'h'\n",
            " b'e' b'r' b',' b' ' b'h' b'e' b'a' b'r' b' ' b'm' b'e' b' ' b's' b'p'\n",
            " b'e' b'a' b'k' b'.' b'\\n' b'\\n' b'A' b'l' b'l' b':' b'\\n' b'S' b'p' b'e'\n",
            " b'a' b'k' b',' b' ' b's' b'p' b'e' b'a' b'k' b'.' b'\\n' b'\\n' b'F' b'i'\n",
            " b'r' b's' b't' b' ' b'C' b'i' b't' b'i' b'z' b'e' b'n' b':' b'\\n' b'Y'\n",
            " b'o' b'u' b' '], shape=(101,), dtype=string)\n"
          ]
        }
      ]
    },
    {
      "cell_type": "markdown",
      "source": [
        "**menggabungkan token kembali menjadi string**"
      ],
      "metadata": {
        "id": "E8b9Xg5Sjh-z"
      }
    },
    {
      "cell_type": "code",
      "source": [
        "for seq in sequences.take(5):\n",
        "  print(text_from_ids(seq).numpy())"
      ],
      "metadata": {
        "colab": {
          "base_uri": "https://localhost:8080/"
        },
        "id": "37dipgpgjeaD",
        "outputId": "e15672ed-95c2-43fd-dba2-dcf85dc8cd30"
      },
      "execution_count": null,
      "outputs": [
        {
          "output_type": "stream",
          "name": "stdout",
          "text": [
            "b'First Citizen:\\nBefore we proceed any further, hear me speak.\\n\\nAll:\\nSpeak, speak.\\n\\nFirst Citizen:\\nYou '\n",
            "b'are all resolved rather to die than to famish?\\n\\nAll:\\nResolved. resolved.\\n\\nFirst Citizen:\\nFirst, you k'\n",
            "b\"now Caius Marcius is chief enemy to the people.\\n\\nAll:\\nWe know't, we know't.\\n\\nFirst Citizen:\\nLet us ki\"\n",
            "b\"ll him, and we'll have corn at our own price.\\nIs't a verdict?\\n\\nAll:\\nNo more talking on't; let it be d\"\n",
            "b'one: away, away!\\n\\nSecond Citizen:\\nOne word, good citizens.\\n\\nFirst Citizen:\\nWe are accounted poor citi'\n"
          ]
        }
      ]
    },
    {
      "cell_type": "markdown",
      "source": [
        "**Mengambil urutan sebagai masukan, menduplikasi, dan menggesernya untuk menyelaraskan masukan dan label untuk setiap langkah waktu**"
      ],
      "metadata": {
        "id": "z3BgNn6Ij0ja"
      }
    },
    {
      "cell_type": "code",
      "source": [
        "def split_input_target(sequence):\n",
        "  input_text = sequence[:-1]\n",
        "  target_text = sequence[1:]\n",
        "  return input_text, target_text"
      ],
      "metadata": {
        "id": "7_BVBOipjpwd"
      },
      "execution_count": null,
      "outputs": []
    },
    {
      "cell_type": "code",
      "source": [
        "split_input_target(list(\"Tensorflow\"))"
      ],
      "metadata": {
        "colab": {
          "base_uri": "https://localhost:8080/"
        },
        "id": "6x8yg679kEjB",
        "outputId": "16b517b7-48a4-4921-db2d-8d85f27fcf08"
      },
      "execution_count": null,
      "outputs": [
        {
          "output_type": "execute_result",
          "data": {
            "text/plain": [
              "(['T', 'e', 'n', 's', 'o', 'r', 'f', 'l', 'o'],\n",
              " ['e', 'n', 's', 'o', 'r', 'f', 'l', 'o', 'w'])"
            ]
          },
          "metadata": {},
          "execution_count": 46
        }
      ]
    },
    {
      "cell_type": "code",
      "source": [
        "dataset = sequences.map(split_input_target)"
      ],
      "metadata": {
        "id": "OE_Auz51kGo6"
      },
      "execution_count": null,
      "outputs": []
    },
    {
      "cell_type": "code",
      "source": [
        "for input_example, target_example in dataset.take(1):\n",
        "  print(\"Input :\", text_from_ids(input_example).numpy())\n",
        "  print(\"Target:\", text_from_ids(target_example).numpy())"
      ],
      "metadata": {
        "colab": {
          "base_uri": "https://localhost:8080/"
        },
        "id": "tyIl0-aRkKJv",
        "outputId": "6672d76c-9429-4021-c9d5-9a2edd98f658"
      },
      "execution_count": null,
      "outputs": [
        {
          "output_type": "stream",
          "name": "stdout",
          "text": [
            "Input : b'First Citizen:\\nBefore we proceed any further, hear me speak.\\n\\nAll:\\nSpeak, speak.\\n\\nFirst Citizen:\\nYou'\n",
            "Target: b'irst Citizen:\\nBefore we proceed any further, hear me speak.\\n\\nAll:\\nSpeak, speak.\\n\\nFirst Citizen:\\nYou '\n"
          ]
        }
      ]
    },
    {
      "cell_type": "markdown",
      "source": [
        "**Membuat Batch Training**"
      ],
      "metadata": {
        "id": "gimuxvq9kVMD"
      }
    },
    {
      "cell_type": "code",
      "source": [
        "# Batch size\n",
        "BATCH_SIZE = 64\n",
        "\n",
        "# Buffer size to shuffle the dataset\n",
        "# (TF data is designed to work with possibly infinite sequences,\n",
        "# so it doesn't attempt to shuffle the entire sequence in memory. Instead,\n",
        "# it maintains a buffer in which it shuffles elements).\n",
        "BUFFER_SIZE = 10000\n",
        "\n",
        "dataset = (\n",
        "    dataset\n",
        "    .shuffle(BUFFER_SIZE)\n",
        "    .batch(BATCH_SIZE, drop_remainder=True)\n",
        "    .prefetch(tf.data.experimental.AUTOTUNE))\n",
        "\n",
        "dataset"
      ],
      "metadata": {
        "colab": {
          "base_uri": "https://localhost:8080/"
        },
        "id": "YUIkCNdBkSld",
        "outputId": "fd374fd2-c6ac-48ec-d44c-e3d36f2e64cc"
      },
      "execution_count": null,
      "outputs": [
        {
          "output_type": "execute_result",
          "data": {
            "text/plain": [
              "<_PrefetchDataset element_spec=(TensorSpec(shape=(64, 100), dtype=tf.int64, name=None), TensorSpec(shape=(64, 100), dtype=tf.int64, name=None))>"
            ]
          },
          "metadata": {},
          "execution_count": 49
        }
      ]
    },
    {
      "cell_type": "markdown",
      "source": [
        "## **Buat Model**"
      ],
      "metadata": {
        "id": "W9u74-jgkaP1"
      }
    },
    {
      "cell_type": "code",
      "source": [
        "# Length of the vocabulary in StringLookup Layer\n",
        "vocab_size = len(ids_from_chars.get_vocabulary())\n",
        "\n",
        "# The embedding dimension\n",
        "embedding_dim = 256\n",
        "\n",
        "# Number of RNN units\n",
        "rnn_units = 1024"
      ],
      "metadata": {
        "id": "BjaMGBSRkYQX"
      },
      "execution_count": null,
      "outputs": []
    },
    {
      "cell_type": "code",
      "source": [
        "class MyModel(tf.keras.Model):\n",
        "  def __init__(self, vocab_size, embedding_dim, rnn_units):\n",
        "    super().__init__(self)\n",
        "    self.embedding = tf.keras.layers.Embedding(vocab_size, embedding_dim)\n",
        "    self.gru = tf.keras.layers.GRU(rnn_units,\n",
        "                                   return_sequences=True,\n",
        "                                   return_state=True)\n",
        "    self.dense = tf.keras.layers.Dense(vocab_size)\n",
        "\n",
        "  def call(self, inputs, states=None, return_state=False, training=False):\n",
        "    x = inputs\n",
        "    x = self.embedding(x, training=training)\n",
        "    if states is None:\n",
        "      states = self.gru.get_initial_state(x)\n",
        "    x, states = self.gru(x, initial_state=states, training=training)\n",
        "    x = self.dense(x, training=training)\n",
        "\n",
        "    if return_state:\n",
        "      return x, states\n",
        "    else:\n",
        "      return x"
      ],
      "metadata": {
        "id": "zKCNQduckdZH"
      },
      "execution_count": null,
      "outputs": []
    },
    {
      "cell_type": "code",
      "source": [
        "model = MyModel(\n",
        "    vocab_size=vocab_size,\n",
        "    embedding_dim=embedding_dim,\n",
        "    rnn_units=rnn_units)"
      ],
      "metadata": {
        "id": "LO5oDl5ukfcz"
      },
      "execution_count": null,
      "outputs": []
    },
    {
      "cell_type": "markdown",
      "source": [
        "## **Uji Model**"
      ],
      "metadata": {
        "id": "7e_a-0aqkjUG"
      }
    },
    {
      "cell_type": "code",
      "source": [
        "for input_example_batch, target_example_batch in dataset.take(1):\n",
        "    example_batch_predictions = model(input_example_batch)\n",
        "    print(example_batch_predictions.shape, \"# (batch_size, sequence_length, vocab_size)\")"
      ],
      "metadata": {
        "colab": {
          "base_uri": "https://localhost:8080/"
        },
        "id": "lkfmWlT-khZz",
        "outputId": "038d6c27-4e3c-4978-b16f-a15bb78d3208"
      },
      "execution_count": null,
      "outputs": [
        {
          "output_type": "stream",
          "name": "stdout",
          "text": [
            "(64, 100, 66) # (batch_size, sequence_length, vocab_size)\n"
          ]
        }
      ]
    },
    {
      "cell_type": "markdown",
      "source": [
        "panjang urutan masukan adalah 100 tetapi model dapat dijalankan pada masukan dengan panjang berapa pun"
      ],
      "metadata": {
        "id": "6hqXoW64k0o0"
      }
    },
    {
      "cell_type": "code",
      "source": [
        "model.summary()"
      ],
      "metadata": {
        "colab": {
          "base_uri": "https://localhost:8080/"
        },
        "id": "fxXoSLHekm3g",
        "outputId": "9e19a8da-373c-482c-b5bb-23b2c8a3bbd7"
      },
      "execution_count": null,
      "outputs": [
        {
          "output_type": "stream",
          "name": "stdout",
          "text": [
            "Model: \"my_model\"\n",
            "_________________________________________________________________\n",
            " Layer (type)                Output Shape              Param #   \n",
            "=================================================================\n",
            " embedding_2 (Embedding)     multiple                  16896     \n",
            "                                                                 \n",
            " gru (GRU)                   multiple                  3938304   \n",
            "                                                                 \n",
            " dense_4 (Dense)             multiple                  67650     \n",
            "                                                                 \n",
            "=================================================================\n",
            "Total params: 4022850 (15.35 MB)\n",
            "Trainable params: 4022850 (15.35 MB)\n",
            "Non-trainable params: 0 (0.00 Byte)\n",
            "_________________________________________________________________\n"
          ]
        }
      ]
    },
    {
      "cell_type": "markdown",
      "source": [
        "mengambil sampel dari distribusi keluaran, untuk mendapatkan indeks karakter aktual. Distribusi ini ditentukan oleh logit pada kosakata karakter."
      ],
      "metadata": {
        "id": "PEGg9OwTk6Tj"
      }
    },
    {
      "cell_type": "code",
      "source": [
        "sampled_indices = tf.random.categorical(example_batch_predictions[0], num_samples=1)\n",
        "sampled_indices = tf.squeeze(sampled_indices, axis=-1).numpy()"
      ],
      "metadata": {
        "id": "WsKkaWTkkzvp"
      },
      "execution_count": null,
      "outputs": []
    },
    {
      "cell_type": "markdown",
      "source": [
        "## **Train Model**\n",
        "\n",
        "**Tambahan optimizer dan fungsi loss**"
      ],
      "metadata": {
        "id": "9hiCSVR2lCPn"
      }
    },
    {
      "cell_type": "code",
      "source": [
        "loss = tf.losses.SparseCategoricalCrossentropy(from_logits=True)"
      ],
      "metadata": {
        "id": "8fXzG8tYk_z_"
      },
      "execution_count": null,
      "outputs": []
    },
    {
      "cell_type": "code",
      "source": [
        "example_batch_mean_loss = loss(target_example_batch, example_batch_predictions)\n",
        "print(\"Prediction shape: \", example_batch_predictions.shape, \" # (batch_size, sequence_length, vocab_size)\")\n",
        "print(\"Mean loss:        \", example_batch_mean_loss)"
      ],
      "metadata": {
        "colab": {
          "base_uri": "https://localhost:8080/"
        },
        "id": "aDINibAwlH3N",
        "outputId": "3cdc66bb-fcc1-48cc-e7e3-6cfaa8ce4128"
      },
      "execution_count": null,
      "outputs": [
        {
          "output_type": "stream",
          "name": "stdout",
          "text": [
            "Prediction shape:  (64, 100, 66)  # (batch_size, sequence_length, vocab_size)\n",
            "Mean loss:         tf.Tensor(4.1886144, shape=(), dtype=float32)\n"
          ]
        }
      ]
    },
    {
      "cell_type": "code",
      "source": [
        "tf.exp(example_batch_mean_loss).numpy()"
      ],
      "metadata": {
        "colab": {
          "base_uri": "https://localhost:8080/"
        },
        "id": "tqmJJe7flMcJ",
        "outputId": "2e8937b5-be5c-4cf4-c022-5aface43f678"
      },
      "execution_count": null,
      "outputs": [
        {
          "output_type": "execute_result",
          "data": {
            "text/plain": [
              "65.93137"
            ]
          },
          "metadata": {},
          "execution_count": 58
        }
      ]
    },
    {
      "cell_type": "markdown",
      "source": [
        "Konfigurasikan prosedur pelatihan menggunakan metode tf.keras.Model.compile"
      ],
      "metadata": {
        "id": "5P5omvMDlY_c"
      }
    },
    {
      "cell_type": "code",
      "source": [
        "model.compile(optimizer='adam', loss=loss)"
      ],
      "metadata": {
        "id": "-XkZR7OnlZhD"
      },
      "execution_count": null,
      "outputs": []
    },
    {
      "cell_type": "markdown",
      "source": [
        "**Konfigurasi Checkpoints**"
      ],
      "metadata": {
        "id": "9BRSA8vYlqMv"
      }
    },
    {
      "cell_type": "code",
      "source": [
        "# Directory where the checkpoints will be saved\n",
        "checkpoint_dir = './training_checkpoints'\n",
        "# Name of the checkpoint files\n",
        "checkpoint_prefix = os.path.join(checkpoint_dir, \"ckpt_{epoch}\")\n",
        "\n",
        "checkpoint_callback = tf.keras.callbacks.ModelCheckpoint(\n",
        "    filepath=checkpoint_prefix,\n",
        "    save_weights_only=True)"
      ],
      "metadata": {
        "id": "0Q169hHelnpm"
      },
      "execution_count": null,
      "outputs": []
    },
    {
      "cell_type": "markdown",
      "source": [
        "**Lakukan Proses Training**"
      ],
      "metadata": {
        "id": "ILQPYUU3ltuT"
      }
    },
    {
      "cell_type": "code",
      "source": [
        "EPOCHS = 20\n",
        "history = model.fit(dataset, epochs=EPOCHS, callbacks=[checkpoint_callback])"
      ],
      "metadata": {
        "colab": {
          "base_uri": "https://localhost:8080/"
        },
        "id": "ArVUKcMUls1K",
        "outputId": "45eee829-43c0-48a0-b44a-1503fa6058d6"
      },
      "execution_count": null,
      "outputs": [
        {
          "output_type": "stream",
          "name": "stdout",
          "text": [
            "Epoch 1/20\n",
            "172/172 [==============================] - 15s 65ms/step - loss: 2.7186\n",
            "Epoch 2/20\n",
            "172/172 [==============================] - 13s 61ms/step - loss: 1.9812\n",
            "Epoch 3/20\n",
            "172/172 [==============================] - 12s 61ms/step - loss: 1.7039\n",
            "Epoch 4/20\n",
            "172/172 [==============================] - 12s 62ms/step - loss: 1.5466\n",
            "Epoch 5/20\n",
            "172/172 [==============================] - 12s 61ms/step - loss: 1.4495\n",
            "Epoch 6/20\n",
            "172/172 [==============================] - 12s 58ms/step - loss: 1.3825\n",
            "Epoch 7/20\n",
            "172/172 [==============================] - 12s 60ms/step - loss: 1.3294\n",
            "Epoch 8/20\n",
            "172/172 [==============================] - 12s 61ms/step - loss: 1.2843\n",
            "Epoch 9/20\n",
            "172/172 [==============================] - 12s 62ms/step - loss: 1.2436\n",
            "Epoch 10/20\n",
            "172/172 [==============================] - 12s 61ms/step - loss: 1.2044\n",
            "Epoch 11/20\n",
            "172/172 [==============================] - 12s 59ms/step - loss: 1.1640\n",
            "Epoch 12/20\n",
            "172/172 [==============================] - 12s 61ms/step - loss: 1.1231\n",
            "Epoch 13/20\n",
            "172/172 [==============================] - 12s 61ms/step - loss: 1.0800\n",
            "Epoch 14/20\n",
            "172/172 [==============================] - 12s 61ms/step - loss: 1.0345\n",
            "Epoch 15/20\n",
            "172/172 [==============================] - 12s 61ms/step - loss: 0.9859\n",
            "Epoch 16/20\n",
            "172/172 [==============================] - 12s 61ms/step - loss: 0.9356\n",
            "Epoch 17/20\n",
            "172/172 [==============================] - 12s 59ms/step - loss: 0.8835\n",
            "Epoch 18/20\n",
            "172/172 [==============================] - 12s 59ms/step - loss: 0.8314\n",
            "Epoch 19/20\n",
            "172/172 [==============================] - 12s 60ms/step - loss: 0.7810\n",
            "Epoch 20/20\n",
            "172/172 [==============================] - 12s 61ms/step - loss: 0.7318\n"
          ]
        }
      ]
    },
    {
      "cell_type": "markdown",
      "source": [
        "## **Generate Teks**"
      ],
      "metadata": {
        "id": "QcjV0z6QmEkZ"
      }
    },
    {
      "cell_type": "code",
      "source": [
        "class OneStep(tf.keras.Model):\n",
        "  def __init__(self, model, chars_from_ids, ids_from_chars, temperature=1.0):\n",
        "    super().__init__()\n",
        "    self.temperature = temperature\n",
        "    self.model = model\n",
        "    self.chars_from_ids = chars_from_ids\n",
        "    self.ids_from_chars = ids_from_chars\n",
        "\n",
        "    # Create a mask to prevent \"[UNK]\" from being generated.\n",
        "    skip_ids = self.ids_from_chars(['[UNK]'])[:, None]\n",
        "    sparse_mask = tf.SparseTensor(\n",
        "        # Put a -inf at each bad index.\n",
        "        values=[-float('inf')]*len(skip_ids),\n",
        "        indices=skip_ids,\n",
        "        # Match the shape to the vocabulary\n",
        "        dense_shape=[len(ids_from_chars.get_vocabulary())])\n",
        "    self.prediction_mask = tf.sparse.to_dense(sparse_mask)\n",
        "\n",
        "  @tf.function\n",
        "  def generate_one_step(self, inputs, states=None):\n",
        "    # Convert strings to token IDs.\n",
        "    input_chars = tf.strings.unicode_split(inputs, 'UTF-8')\n",
        "    input_ids = self.ids_from_chars(input_chars).to_tensor()\n",
        "\n",
        "    # Run the model.\n",
        "    # predicted_logits.shape is [batch, char, next_char_logits]\n",
        "    predicted_logits, states = self.model(inputs=input_ids, states=states,\n",
        "                                          return_state=True)\n",
        "    # Only use the last prediction.\n",
        "    predicted_logits = predicted_logits[:, -1, :]\n",
        "    predicted_logits = predicted_logits/self.temperature\n",
        "    # Apply the prediction mask: prevent \"[UNK]\" from being generated.\n",
        "    predicted_logits = predicted_logits + self.prediction_mask\n",
        "\n",
        "    # Sample the output logits to generate token IDs.\n",
        "    predicted_ids = tf.random.categorical(predicted_logits, num_samples=1)\n",
        "    predicted_ids = tf.squeeze(predicted_ids, axis=-1)\n",
        "\n",
        "    # Convert from token ids to characters\n",
        "    predicted_chars = self.chars_from_ids(predicted_ids)\n",
        "\n",
        "    # Return the characters and model state.\n",
        "    return predicted_chars, states"
      ],
      "metadata": {
        "id": "OfSH375Fl5xA"
      },
      "execution_count": null,
      "outputs": []
    },
    {
      "cell_type": "code",
      "source": [
        "one_step_model = OneStep(model, chars_from_ids, ids_from_chars)"
      ],
      "metadata": {
        "id": "NxDWS_wQmIe9"
      },
      "execution_count": null,
      "outputs": []
    },
    {
      "cell_type": "markdown",
      "source": [
        "**menjalankan secara berulang untuk menghasilkan beberapa teks**"
      ],
      "metadata": {
        "id": "VwhziHA4zdah"
      }
    },
    {
      "cell_type": "code",
      "source": [
        "start = time.time()\n",
        "states = None\n",
        "next_char = tf.constant(['ROMEO:'])\n",
        "result = [next_char]\n",
        "\n",
        "for n in range(1000):\n",
        "  next_char, states = one_step_model.generate_one_step(next_char, states=states)\n",
        "  result.append(next_char)\n",
        "\n",
        "result = tf.strings.join(result)\n",
        "end = time.time()\n",
        "print(result[0].numpy().decode('utf-8'), '\\n\\n' + '_'*80)\n",
        "print('\\nRun time:', end - start)"
      ],
      "metadata": {
        "colab": {
          "base_uri": "https://localhost:8080/"
        },
        "id": "OMJ7a2CXwxtG",
        "outputId": "ee94341e-2206-4241-f93b-366a528dd47e"
      },
      "execution_count": null,
      "outputs": [
        {
          "output_type": "stream",
          "name": "stdout",
          "text": [
            "ROMEO:\n",
            "Grace go wine by the other in thy dear,\n",
            "Surrey him that Henry drag me whomatom our father's daughter\n",
            "Anders forget the Duke of Clarence, nor it st,\n",
            "All servant to my friendly.\n",
            "\n",
            "YORK:\n",
            "Angelo, the city lies!\n",
            "\n",
            "Second Servant:\n",
            "He is wife, sit, an 'twere thought upon: I hope, sir, ask your will,\n",
            "Become the maid that came thy peace.\n",
            "Think upon his fears and desperate me!\n",
            "Near, this is he, three lords and knife;\n",
            "For this wash daughter'd baseness of his chastisement,\n",
            "That fair bad Nowling all Pitch'd 'badam.'\n",
            "\n",
            "KING EDWARD:\n",
            "Marry, and well I wot, then he doth so.\n",
            "\n",
            "PETER:\n",
            "Pretty Petracious sir: For he is well.\n",
            "Do here no signifies accords and\n",
            "That made thy widding-jock? do ye good he\n",
            "How the king dost thou myself?\n",
            "\n",
            "Third Servingman:\n",
            "I say unto you,--\n",
            "Being noble queen!\n",
            "\n",
            "QUEEN ELIZABETH:\n",
            "Hidesty his flies and thy friends\n",
            "How touches escape impidence, as I haded!\n",
            "Now wear it with her.\n",
            "\n",
            "VOLUMNIA:\n",
            "No, by: let's hence.\n",
            "\n",
            "TRANIO:\n",
            "She says ye.\n",
            "\n",
            "HENRY BOLINGBROKE:\n",
            "Go thrown, be since why from my soul I  \n",
            "\n",
            "________________________________________________________________________________\n",
            "\n",
            "Run time: 3.294891357421875\n"
          ]
        }
      ]
    },
    {
      "cell_type": "markdown",
      "source": [
        "**Menghasilkan teks lebih cepat**"
      ],
      "metadata": {
        "id": "r9x2QYINzi7d"
      }
    },
    {
      "cell_type": "code",
      "source": [
        "start = time.time()\n",
        "states = None\n",
        "next_char = tf.constant(['ROMEO:', 'ROMEO:', 'ROMEO:', 'ROMEO:', 'ROMEO:'])\n",
        "result = [next_char]\n",
        "\n",
        "for n in range(1000):\n",
        "  next_char, states = one_step_model.generate_one_step(next_char, states=states)\n",
        "  result.append(next_char)\n",
        "\n",
        "result = tf.strings.join(result)\n",
        "end = time.time()\n",
        "print(result, '\\n\\n' + '_'*80)\n",
        "print('\\nRun time:', end - start)"
      ],
      "metadata": {
        "colab": {
          "base_uri": "https://localhost:8080/"
        },
        "id": "E3wXJBdaw0_g",
        "outputId": "fbaa7adb-0959-4912-c044-d16ef989f85b"
      },
      "execution_count": null,
      "outputs": [
        {
          "output_type": "stream",
          "name": "stdout",
          "text": [
            "tf.Tensor(\n",
            "[b\"ROMEO:\\nProvoke it, his resolve: go you three-hearts of\\ngeneral; and that seek the stubbarry hear me.\\nSpeak allow you, sir? we must answer?\\n\\nDUKE VINCENTIO:\\nNot to rather home arriving with the rest;\\nAnd yet the day is our commitstoned; the wreck\\nlike chastity; you may, the occupation aud\\nA dozen so fasth; and with his realm,\\nHath give my knems together, thanks with one that love\\nAnd her as old and fire; and, in strokes,\\nThough I am content to black it, thanks\\nFor that person; here is he was forced to all.\\n\\nKATHARINA:\\nI can a letter, you and I love use you:\\n'Ton tears had show't a gentlewoman:\\nHow silver sound; and that thou art potsiblize;\\nThe words woo hadst certain to come.\\n\\nFather:\\nLook, where we were, do it tell those mouth:\\nAnd yet I know, and that my honest young shoot,\\n'gainst the soft died, but we can cholar,\\nWhen I should die with big and look upon my head;\\nFor Edward, throw-doiety, you, more dark'd upon\\nThis daunt, yes, then we should be-conceited\\nSetcus vow to please this vault,\\nA\"\n",
            " b\"ROMEO:\\nGraying with a heart to this so growing, whence he yet well\\nMore than his censure base hurt upon swears\\nAgainst all voices, sirrah and Tybalt's death,\\nAnd all the barries stood for air: this\\nis that the ancient safe, that valiant is together?\\n\\nPARIS:\\nMy lord,\\nHe has more cause and metaly.\\n\\nProvost:\\nI take my leave, he had great most love.\\n\\nFRIAR LAURENCE:\\nThou visarest thou seest, thou rack that kinsmen!\\n\\nDUKE VINCENTIO:\\nLove than those seven: must he patch'd affection\\nTo eart it in French worser than his wounds\\nTo undercep and with thy dearest arms:\\nYou are the musics of one but with what thou lean'd\\nWith story of sweetest: with a purpose word,\\nMy present vengeance in thy blood imprison.\\nMost lovely!\\n\\nRicLeND:\\nSo will you gift that parlork'd.\\n\\nLUCIO:\\nMy lord, my lord,\\nHe child her gots help you that do we thy fellow's wife.\\nFarewell, old Toneary at our sceptre,\\nUnhering that that she which breathed upon;\\nOne that, I think, though many that of thyself\\nThe manice kiss came him; I have\\n\"\n",
            " b\"ROMEO:\\nAm I better nown, and yes, take up my mind to marvy\\nFraths from glasses, but that you have must win me.\\n\\nLAANIA:\\nI do believe thee, father.\\n\\nVINCETIO:\\nNo more.\\n\\nLord Mayor:\\nAway, the tongue-torse, and gentlemen;\\nAnd, in this royal kind, and that so should ye\\nAnd here become to die.\\n\\nFRIAR LAURENCE:\\nThou whost ne'er sit we dried.\\n\\nFirst Senator:\\nStay, go to; I would thou hadst been rotten time.\\n\\nDUCHESS OF YORK:\\nWho are the king's son and Lord Henry's heart.\\nGrimm your hand. The lips of the rest,\\nMore of you with showering years; his will I bear\\nA good Padua to a heart's wrong in that which\\naccessous execution thou owest to her wedding death.\\n\\nLord Mayor:\\nMarry, that, employ'd by thy friends: but our promise\\nIs created the charges of our pitefus bast:\\nPlay with his father, courage in this soldier,\\nI have no more duty torments,\\nThat doth her answer 'I would not talk of a wooen\\nUmparlike off.\\n\\nLUCENTIO:\\nThe word is on it: take my charitage of the law,\\nAnd therein thou shouldst make queen\"\n",
            " b\"ROMEO:\\nO, staring by the jest:\\nCare him him out alone; all but a world\\n'Fwere Master Shorery's foe.\\n\\nKING EDWARD IV:\\nWhat, stay these bitter wench? Why where go say\\nThe Capitol us and that without id--\\nThat they are quick and Heractizen:\\nWhat threament thou dries not the frown;\\nThen were his justful lady to myself,\\nIf you dig fair, 'mmay'd it with her purse, as Your summer as\\nyou say west music and committed to you\\nHow thou let'st receive than thy owl?\\nTo-morrow never yet beheld them not;\\nBut is beggars make no more betid.\\n\\nEXETER:\\nHis need I may be acknofled and--\\nThese are that to conqueror hours,\\nNo curst not so; and, succord-meantion\\nIf this be plain, so please you, let by harboard\\nThan forset it home: he has the way,\\nDo as the night instant way, or he\\nwas ever kind to meet you for the pumptience.\\n\\nISABELLA:\\nI have been to sorrow heard you age.\\nWhy then, the music rest induct me well.\\n\\nCLIFFORD:\\nAy, with my heart; poor souls, my 'tburd's death!\\nKing Henry, and my gracious lord;\\nWhat, not\"\n",
            " b\"ROMEO:\\nGrandam, here's the sin that have miscarried for\\nAnother and louring we are general: I'll give a woful\\nHence that the belonging husbands.\\n\\nDUKE VINCENTIO:\\nVery well; thou art a sie't say 'doe's with you;\\nAnd yet 'tis better whip your hands do swear\\nThan we are so break, and beat a word with you;\\nI saw not man;' quoth he, nor beiff and know\\nhe may prove a broken wife and deeper lust.\\nCourageous Richmond, wedding amazed me? The bawdy knaves, men\\nThat made him soft-a wison, accurst her death.\\nI would awake you as a fearful gladies; let him bring\\nTo make no stander in this face.\\nIn thy deserving son that I have I\\nhold it on my pominise honesty.\\n\\nFirst Servingman:\\nNay, he here proud than this man? Why, I'll believe you.\\n\\nCLAUDIO:\\nThus stands received; 'tis the enforcely\\nmugh that first committed with balianch; put\\nmericmanity anding to know him again: 'I was cruel\\nOn perdid with interchange of histure\\nTo stand you our commission. Do; well, I say.\\nThere's bottle was my fortunes.\\n\\nWARWICK:\\nP\"], shape=(5,), dtype=string) \n",
            "\n",
            "________________________________________________________________________________\n",
            "\n",
            "Run time: 3.901655673980713\n"
          ]
        }
      ]
    },
    {
      "cell_type": "markdown",
      "source": [
        "## **Ekspor Model Generator**"
      ],
      "metadata": {
        "id": "Cc7zfxFA1IYi"
      }
    },
    {
      "cell_type": "code",
      "source": [
        "tf.saved_model.save(one_step_model, 'one_step')\n",
        "one_step_reloaded = tf.saved_model.load('one_step')"
      ],
      "metadata": {
        "colab": {
          "base_uri": "https://localhost:8080/"
        },
        "id": "lxv5ZwJIzm8z",
        "outputId": "280d5a73-212c-4032-e4af-a1c267a10c0a"
      },
      "execution_count": null,
      "outputs": [
        {
          "output_type": "stream",
          "name": "stderr",
          "text": [
            "WARNING:tensorflow:Skipping full serialization of Keras layer <__main__.OneStep object at 0x78b2129a0130>, because it is not built.\n",
            "WARNING:tensorflow:Model's `__init__()` arguments contain non-serializable objects. Please implement a `get_config()` method in the subclassed Model for proper saving and loading. Defaulting to empty config.\n",
            "WARNING:tensorflow:Model's `__init__()` arguments contain non-serializable objects. Please implement a `get_config()` method in the subclassed Model for proper saving and loading. Defaulting to empty config.\n"
          ]
        }
      ]
    },
    {
      "cell_type": "code",
      "source": [
        "states = None\n",
        "next_char = tf.constant(['ROMEO:'])\n",
        "result = [next_char]\n",
        "\n",
        "for n in range(100):\n",
        "  next_char, states = one_step_reloaded.generate_one_step(next_char, states=states)\n",
        "  result.append(next_char)\n",
        "\n",
        "print(tf.strings.join(result)[0].numpy().decode(\"utf-8\"))"
      ],
      "metadata": {
        "colab": {
          "base_uri": "https://localhost:8080/"
        },
        "id": "PD5uEyoH1OGM",
        "outputId": "20c09cb8-892a-4aa5-ddf9-22c5f07fadab"
      },
      "execution_count": null,
      "outputs": [
        {
          "output_type": "stream",
          "name": "stdout",
          "text": [
            "ROMEO:\n",
            "Francid thou wives transported zenity,\n",
            "Shall in threst thing able to expect\n",
            "to her tender years til\n"
          ]
        }
      ]
    },
    {
      "cell_type": "markdown",
      "source": [
        "# Tugas"
      ],
      "metadata": {
        "id": "k10pskqc8iuC"
      }
    },
    {
      "cell_type": "markdown",
      "source": [
        "Gunakan `tf.GradientTape` untuk men track nilai gradient. Anda dapat mempelajari lebih lanjut tentang pendekatan ini dengan membaca `eager execution guide`.\n",
        "\n",
        "Prosedurnya adalah:\n",
        "\n",
        "1. Jalankan Model dan hitung loss dengan `tf.GradientTape`.\n",
        "2. Hitung update dan terapkan pada model dengan optimizer"
      ],
      "metadata": {
        "id": "CAd46PNP8nlx"
      }
    },
    {
      "cell_type": "code",
      "source": [
        "class CustomTraining(MyModel):\n",
        "  @tf.function\n",
        "  def train_step(self, inputs):\n",
        "    inputs, labels = inputs\n",
        "    with tf.GradientTape() as tape:\n",
        "      predictions = self(inputs, training=True)\n",
        "      loss = self.loss(labels, predictions)\n",
        "      grads = tape.gradient(loss, model.trainable_variables)\n",
        "      self.optimizer.apply_gradients(zip(grads, model.trainable_variables))\n",
        "\n",
        "      return {'loss': loss}"
      ],
      "metadata": {
        "id": "SYWtY_ju8kKE"
      },
      "execution_count": null,
      "outputs": []
    },
    {
      "cell_type": "code",
      "source": [
        "model = CustomTraining(\n",
        "    vocab_size=len(ids_from_chars.get_vocabulary()),\n",
        "    embedding_dim=embedding_dim,\n",
        "    rnn_units=rnn_units)"
      ],
      "metadata": {
        "id": "mbWMJSFy9P1l"
      },
      "execution_count": null,
      "outputs": []
    },
    {
      "cell_type": "code",
      "source": [
        "model.compile(optimizer = tf.keras.optimizers.Adam(),\n",
        "              loss=tf.keras.losses.SparseCategoricalCrossentropy(from_logits=True))"
      ],
      "metadata": {
        "id": "v-ytdtrD9Scr"
      },
      "execution_count": null,
      "outputs": []
    },
    {
      "cell_type": "code",
      "source": [
        "model.fit(dataset, epochs=1)"
      ],
      "metadata": {
        "colab": {
          "base_uri": "https://localhost:8080/"
        },
        "id": "weR9mMY59W62",
        "outputId": "5bbb536c-354b-4b30-966c-2c4116717150"
      },
      "execution_count": null,
      "outputs": [
        {
          "output_type": "stream",
          "name": "stdout",
          "text": [
            "172/172 [==============================] - 15s 63ms/step - loss: 2.7191\n"
          ]
        },
        {
          "output_type": "execute_result",
          "data": {
            "text/plain": [
              "<keras.src.callbacks.History at 0x78b2184a37c0>"
            ]
          },
          "metadata": {},
          "execution_count": 71
        }
      ]
    },
    {
      "cell_type": "code",
      "source": [
        "EPOCHS = 10\n",
        "\n",
        "mean = tf.metrics.Mean()\n",
        "\n",
        "for epoch in range(EPOCHS):\n",
        "  start = time.time()\n",
        "\n",
        "  mean.reset_states()\n",
        "  for (batch_n, (inp, target)) in enumerate(dataset):\n",
        "    logs = model.train_step([inp, target])\n",
        "    mean.update_state(logs['loss'])\n",
        "\n",
        "    if batch_n % 50 == 0:\n",
        "      template = f\"Epoch {epoch+1} Batch {batch_n} Loss {logs['loss']:.4f}\"\n",
        "      print(template)\n",
        "\n",
        "      # saving (checkpoint) the model every 5 epochs\n",
        "      if (epoch + 1) % 5 == 0:\n",
        "        model.save_weights(checkpoint_prefix.format(epoch=epoch))\n",
        "        print()\n",
        "        print(f'Epoch {epoch+1} Loss: {mean.result().numpy():.4f}')\n",
        "        print(f'Time taken for 1 epoch {time.time() - start:.2f} sec')\n",
        "        print(\"_\"*80)\n",
        "\n",
        "model.save_weights(checkpoint_prefix.format(epoch=epoch))"
      ],
      "metadata": {
        "colab": {
          "base_uri": "https://localhost:8080/"
        },
        "id": "UK7NO9US9Ysp",
        "outputId": "ce7b659c-468a-4d50-cb13-c45bdd6d261b"
      },
      "execution_count": null,
      "outputs": [
        {
          "output_type": "stream",
          "name": "stdout",
          "text": [
            "Epoch 1 Batch 0 Loss 2.2136\n",
            "Epoch 1 Batch 50 Loss 2.1178\n",
            "Epoch 1 Batch 100 Loss 1.9555\n",
            "Epoch 1 Batch 150 Loss 1.8325\n",
            "Epoch 2 Batch 0 Loss 1.8070\n",
            "Epoch 2 Batch 50 Loss 1.7581\n",
            "Epoch 2 Batch 100 Loss 1.6887\n",
            "Epoch 2 Batch 150 Loss 1.6515\n",
            "Epoch 3 Batch 0 Loss 1.5838\n",
            "Epoch 3 Batch 50 Loss 1.5967\n",
            "Epoch 3 Batch 100 Loss 1.5445\n",
            "Epoch 3 Batch 150 Loss 1.5065\n",
            "Epoch 4 Batch 0 Loss 1.4208\n",
            "Epoch 4 Batch 50 Loss 1.4693\n",
            "Epoch 4 Batch 100 Loss 1.4270\n",
            "Epoch 4 Batch 150 Loss 1.4251\n",
            "Epoch 5 Batch 0 Loss 1.4208\n",
            "\n",
            "Epoch 5 Loss: 1.4208\n",
            "Time taken for 1 epoch 1.76 sec\n",
            "________________________________________________________________________________\n",
            "Epoch 5 Batch 50 Loss 1.4067\n",
            "\n",
            "Epoch 5 Loss: 1.3847\n",
            "Time taken for 1 epoch 4.69 sec\n",
            "________________________________________________________________________________\n",
            "Epoch 5 Batch 100 Loss 1.3456\n",
            "\n",
            "Epoch 5 Loss: 1.3853\n",
            "Time taken for 1 epoch 7.62 sec\n",
            "________________________________________________________________________________\n",
            "Epoch 5 Batch 150 Loss 1.3701\n",
            "\n",
            "Epoch 5 Loss: 1.3835\n",
            "Time taken for 1 epoch 10.53 sec\n",
            "________________________________________________________________________________\n",
            "Epoch 6 Batch 0 Loss 1.3218\n",
            "Epoch 6 Batch 50 Loss 1.3203\n",
            "Epoch 6 Batch 100 Loss 1.3573\n",
            "Epoch 6 Batch 150 Loss 1.3510\n",
            "Epoch 7 Batch 0 Loss 1.2292\n",
            "Epoch 7 Batch 50 Loss 1.2653\n",
            "Epoch 7 Batch 100 Loss 1.3169\n",
            "Epoch 7 Batch 150 Loss 1.3019\n",
            "Epoch 8 Batch 0 Loss 1.2651\n",
            "Epoch 8 Batch 50 Loss 1.2625\n",
            "Epoch 8 Batch 100 Loss 1.2362\n",
            "Epoch 8 Batch 150 Loss 1.2167\n",
            "Epoch 9 Batch 0 Loss 1.1869\n",
            "Epoch 9 Batch 50 Loss 1.2005\n",
            "Epoch 9 Batch 100 Loss 1.2125\n",
            "Epoch 9 Batch 150 Loss 1.2032\n",
            "Epoch 10 Batch 0 Loss 1.1695\n",
            "\n",
            "Epoch 10 Loss: 1.1695\n",
            "Time taken for 1 epoch 1.77 sec\n",
            "________________________________________________________________________________\n",
            "Epoch 10 Batch 50 Loss 1.1341\n",
            "\n",
            "Epoch 10 Loss: 1.1469\n",
            "Time taken for 1 epoch 4.81 sec\n",
            "________________________________________________________________________________\n",
            "Epoch 10 Batch 100 Loss 1.2156\n",
            "\n",
            "Epoch 10 Loss: 1.1564\n",
            "Time taken for 1 epoch 7.86 sec\n",
            "________________________________________________________________________________\n",
            "Epoch 10 Batch 150 Loss 1.1716\n",
            "\n",
            "Epoch 10 Loss: 1.1625\n",
            "Time taken for 1 epoch 10.89 sec\n",
            "________________________________________________________________________________\n"
          ]
        }
      ]
    },
    {
      "cell_type": "code",
      "source": [],
      "metadata": {
        "id": "UANBvvHn9vAf"
      },
      "execution_count": null,
      "outputs": []
    }
  ],
  "metadata": {
    "colab": {
      "provenance": [],
      "gpuType": "T4",
      "authorship_tag": "ABX9TyNdR72fg0/7L1uc3hLRCMT9",
      "include_colab_link": true
    },
    "kernelspec": {
      "display_name": "Python 3",
      "name": "python3"
    },
    "language_info": {
      "name": "python"
    },
    "accelerator": "GPU"
  },
  "nbformat": 4,
  "nbformat_minor": 0
}